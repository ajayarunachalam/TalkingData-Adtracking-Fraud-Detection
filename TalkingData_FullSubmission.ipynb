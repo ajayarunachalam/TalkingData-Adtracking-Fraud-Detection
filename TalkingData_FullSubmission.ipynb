{
 "cells": [
  {
   "cell_type": "markdown",
   "metadata": {},
   "source": [
    "# \"TalkingData: Predictive Model\"  # Training of full data"
   ]
  },
  {
   "cell_type": "code",
   "execution_count": 1,
   "metadata": {
    "collapsed": false
   },
   "outputs": [
    {
     "data": {
      "text/html": [
       "<table>\n",
       "<thead><tr><th></th><th scope=col>used</th><th scope=col>(Mb)</th><th scope=col>gc trigger</th><th scope=col>(Mb)</th><th scope=col>max used</th><th scope=col>(Mb)</th></tr></thead>\n",
       "<tbody>\n",
       "\t<tr><th scope=row>Ncells</th><td>496318 </td><td>26.6   </td><td> 940480</td><td>50.3   </td><td>496318 </td><td>26.6   </td></tr>\n",
       "\t<tr><th scope=row>Vcells</th><td>917334 </td><td> 7.0   </td><td>1650153</td><td>12.6   </td><td>917334 </td><td> 7.0   </td></tr>\n",
       "</tbody>\n",
       "</table>\n"
      ],
      "text/latex": [
       "\\begin{tabular}{r|llllll}\n",
       "  & used & (Mb) & gc trigger & (Mb) & max used & (Mb)\\\\\n",
       "\\hline\n",
       "\tNcells & 496318  & 26.6    &  940480 & 50.3    & 496318  & 26.6   \\\\\n",
       "\tVcells & 917334  &  7.0    & 1650153 & 12.6    & 917334  &  7.0   \\\\\n",
       "\\end{tabular}\n"
      ],
      "text/markdown": [
       "\n",
       "| <!--/--> | used | (Mb) | gc trigger | (Mb) | max used | (Mb) | \n",
       "|---|---|\n",
       "| Ncells | 496318  | 26.6    |  940480 | 50.3    | 496318  | 26.6    | \n",
       "| Vcells | 917334  |  7.0    | 1650153 | 12.6    | 917334  |  7.0    | \n",
       "\n",
       "\n"
      ],
      "text/plain": [
       "       used   (Mb) gc trigger (Mb) max used (Mb)\n",
       "Ncells 496318 26.6  940480    50.3 496318   26.6\n",
       "Vcells 917334  7.0 1650153    12.6 917334    7.0"
      ]
     },
     "metadata": {},
     "output_type": "display_data"
    }
   ],
   "source": [
    "# Clear workspace and memory\n",
    "rm(list = ls()); gc(reset = TRUE)"
   ]
  },
  {
   "cell_type": "code",
   "execution_count": 2,
   "metadata": {
    "collapsed": false
   },
   "outputs": [
    {
     "name": "stderr",
     "output_type": "stream",
     "text": [
      "Loading required package: pacman\n"
     ]
    }
   ],
   "source": [
    "# load libraries\n",
    "if (!require(\"pacman\")) install.packages('pacman')"
   ]
  },
  {
   "cell_type": "code",
   "execution_count": 3,
   "metadata": {
    "collapsed": true
   },
   "outputs": [],
   "source": [
    "pacman::p_load(knitr, tidyverse, highcharter, data.table, lubridate, janitor, \n",
    "               pROC, tictoc, DescTools, lightgbm)"
   ]
  },
  {
   "cell_type": "code",
   "execution_count": 4,
   "metadata": {
    "collapsed": true
   },
   "outputs": [],
   "source": [
    "set.seed(123)               \n",
    "options(scipen = 9999, warn = -1, digits= 5)"
   ]
  },
  {
   "cell_type": "markdown",
   "metadata": {},
   "source": [
    "# Data Preprocessing & Feature Engineering"
   ]
  },
  {
   "cell_type": "code",
   "execution_count": 5,
   "metadata": {
    "collapsed": true
   },
   "outputs": [],
   "source": [
    "## Pre-processing training data\n",
    "\n",
    "# The full data set has 184 million observations. \n",
    "\n",
    "### Chain together and pipe training data ###\n",
    "\n",
    "tic(\"Total processing time for feature engineering on training data --->\")\n",
    "train <- fread(\"train.csv\", \n",
    "               col.names =c(\"ip\", \"app\", \"device\", \"os\", \"channel\", \n",
    "                            \"click_time\", \"attributed_time\", \"is_attributed\"), \n",
    "               colClasses=list(numeric=1:5), \n",
    "               showProgress = FALSE) %>%\n",
    "  select(-c(attributed_time)) %>%\n",
    "  mutate(wday = Weekday(click_time), hour = hour(click_time)) %>% \n",
    "  select(-c(click_time)) %>%\n",
    "  add_count(ip, wday, hour) %>% rename(\"numip_day_h\" = n) %>%\n",
    "  add_count(ip, hour, channel) %>% rename(\"numip_h_chan\" = n) %>%\n",
    "  add_count(ip, hour, os) %>% rename(\"numip_h_osr\" = n) %>%\n",
    "  add_count(ip, hour, app) %>% rename(\"numip_h_app\" = n) %>%\n",
    "  add_count(ip, hour, device) %>% rename(\"numip_h_dev\" = n) %>%\n",
    "  select(-c(ip))"
   ]
  },
  {
   "cell_type": "code",
   "execution_count": 6,
   "metadata": {
    "collapsed": false
   },
   "outputs": [
    {
     "data": {
      "text/html": [
       "<ol class=list-inline>\n",
       "\t<li>184903890</li>\n",
       "\t<li>12</li>\n",
       "</ol>\n"
      ],
      "text/latex": [
       "\\begin{enumerate*}\n",
       "\\item 184903890\n",
       "\\item 12\n",
       "\\end{enumerate*}\n"
      ],
      "text/markdown": [
       "1. 184903890\n",
       "2. 12\n",
       "\n",
       "\n"
      ],
      "text/plain": [
       "[1] 184903890        12"
      ]
     },
     "metadata": {},
     "output_type": "display_data"
    }
   ],
   "source": [
    "dim(train)"
   ]
  },
  {
   "cell_type": "code",
   "execution_count": 7,
   "metadata": {
    "collapsed": false
   },
   "outputs": [
    {
     "data": {
      "text/html": [
       "<ol class=list-inline>\n",
       "\t<li>'app'</li>\n",
       "\t<li>'device'</li>\n",
       "\t<li>'os'</li>\n",
       "\t<li>'channel'</li>\n",
       "\t<li>'is_attributed'</li>\n",
       "\t<li>'wday'</li>\n",
       "\t<li>'hour'</li>\n",
       "\t<li>'numip_day_h'</li>\n",
       "\t<li>'numip_h_chan'</li>\n",
       "\t<li>'numip_h_osr'</li>\n",
       "\t<li>'numip_h_app'</li>\n",
       "\t<li>'numip_h_dev'</li>\n",
       "</ol>\n"
      ],
      "text/latex": [
       "\\begin{enumerate*}\n",
       "\\item 'app'\n",
       "\\item 'device'\n",
       "\\item 'os'\n",
       "\\item 'channel'\n",
       "\\item 'is\\_attributed'\n",
       "\\item 'wday'\n",
       "\\item 'hour'\n",
       "\\item 'numip\\_day\\_h'\n",
       "\\item 'numip\\_h\\_chan'\n",
       "\\item 'numip\\_h\\_osr'\n",
       "\\item 'numip\\_h\\_app'\n",
       "\\item 'numip\\_h\\_dev'\n",
       "\\end{enumerate*}\n"
      ],
      "text/markdown": [
       "1. 'app'\n",
       "2. 'device'\n",
       "3. 'os'\n",
       "4. 'channel'\n",
       "5. 'is_attributed'\n",
       "6. 'wday'\n",
       "7. 'hour'\n",
       "8. 'numip_day_h'\n",
       "9. 'numip_h_chan'\n",
       "10. 'numip_h_osr'\n",
       "11. 'numip_h_app'\n",
       "12. 'numip_h_dev'\n",
       "\n",
       "\n"
      ],
      "text/plain": [
       " [1] \"app\"           \"device\"        \"os\"            \"channel\"      \n",
       " [5] \"is_attributed\" \"wday\"          \"hour\"          \"numip_day_h\"  \n",
       " [9] \"numip_h_chan\"  \"numip_h_osr\"   \"numip_h_app\"   \"numip_h_dev\"  "
      ]
     },
     "metadata": {},
     "output_type": "display_data"
    }
   ],
   "source": [
    "names(train)"
   ]
  },
  {
   "cell_type": "code",
   "execution_count": 8,
   "metadata": {
    "collapsed": false
   },
   "outputs": [
    {
     "data": {
      "text/html": [
       "<table>\n",
       "<thead><tr><th scope=col>app</th><th scope=col>device</th><th scope=col>os</th><th scope=col>channel</th><th scope=col>is_attributed</th><th scope=col>wday</th><th scope=col>hour</th><th scope=col>numip_day_h</th><th scope=col>numip_h_chan</th><th scope=col>numip_h_osr</th><th scope=col>numip_h_app</th><th scope=col>numip_h_dev</th></tr></thead>\n",
       "<tbody>\n",
       "\t<tr><td>3  </td><td>1  </td><td>13 </td><td>379</td><td>0  </td><td>1  </td><td>14 </td><td>1  </td><td>11 </td><td>168</td><td>168</td><td>892</td></tr>\n",
       "\t<tr><td>3  </td><td>1  </td><td>19 </td><td>379</td><td>0  </td><td>1  </td><td>14 </td><td>1  </td><td>13 </td><td>143</td><td>166</td><td>842</td></tr>\n",
       "</tbody>\n",
       "</table>\n"
      ],
      "text/latex": [
       "\\begin{tabular}{r|llllllllllll}\n",
       " app & device & os & channel & is\\_attributed & wday & hour & numip\\_day\\_h & numip\\_h\\_chan & numip\\_h\\_osr & numip\\_h\\_app & numip\\_h\\_dev\\\\\n",
       "\\hline\n",
       "\t 3   & 1   & 13  & 379 & 0   & 1   & 14  & 1   & 11  & 168 & 168 & 892\\\\\n",
       "\t 3   & 1   & 19  & 379 & 0   & 1   & 14  & 1   & 13  & 143 & 166 & 842\\\\\n",
       "\\end{tabular}\n"
      ],
      "text/markdown": [
       "\n",
       "app | device | os | channel | is_attributed | wday | hour | numip_day_h | numip_h_chan | numip_h_osr | numip_h_app | numip_h_dev | \n",
       "|---|---|\n",
       "| 3   | 1   | 13  | 379 | 0   | 1   | 14  | 1   | 11  | 168 | 168 | 892 | \n",
       "| 3   | 1   | 19  | 379 | 0   | 1   | 14  | 1   | 13  | 143 | 166 | 842 | \n",
       "\n",
       "\n"
      ],
      "text/plain": [
       "  app device os channel is_attributed wday hour numip_day_h numip_h_chan\n",
       "1 3   1      13 379     0             1    14   1           11          \n",
       "2 3   1      19 379     0             1    14   1           13          \n",
       "  numip_h_osr numip_h_app numip_h_dev\n",
       "1 168         168         892        \n",
       "2 143         166         842        "
      ]
     },
     "metadata": {},
     "output_type": "display_data"
    }
   ],
   "source": [
    "head(train,2)"
   ]
  },
  {
   "cell_type": "code",
   "execution_count": 9,
   "metadata": {
    "collapsed": false
   },
   "outputs": [
    {
     "name": "stdout",
     "output_type": "stream",
     "text": [
      "Total processing time for feature engineering on training data --->: 1853.857 sec elapsed\n"
     ]
    }
   ],
   "source": [
    "toc()\n",
    "invisible(gc())"
   ]
  },
  {
   "cell_type": "markdown",
   "metadata": {},
   "source": [
    "# Let's follow the same procedure to prepare test data"
   ]
  },
  {
   "cell_type": "code",
   "execution_count": 10,
   "metadata": {
    "collapsed": true
   },
   "outputs": [],
   "source": [
    "### Chain together and pipe test data\n",
    "\n",
    "tic(\"Total processing time for feature engineering on test data --->\")\n",
    "test  <- fread(\"test.csv\", colClasses=list(numeric=2:6), showProgress = FALSE) "
   ]
  },
  {
   "cell_type": "code",
   "execution_count": 11,
   "metadata": {
    "collapsed": true
   },
   "outputs": [],
   "source": [
    "# extract click_id for prediction file\n",
    "sub <- data.table(click_id = test$click_id, is_attributed = NA) \n",
    "test$click_id <- NULL"
   ]
  },
  {
   "cell_type": "code",
   "execution_count": 12,
   "metadata": {
    "collapsed": false
   },
   "outputs": [
    {
     "name": "stdout",
     "output_type": "stream",
     "text": [
      "Total processing time for feature engineering on test data --->: 214.06 sec elapsed\n"
     ]
    }
   ],
   "source": [
    "test <- test %>% \n",
    "mutate(wday = Weekday(click_time), hour = hour(click_time)) %>%\n",
    "select(-c(click_time)) %>%\n",
    "add_count(ip, wday, hour) %>% rename(\"numip_day_h\" = n) %>%\n",
    "add_count(ip, hour, channel) %>% rename(\"numip_h_chan\" = n) %>%\n",
    "add_count(ip, hour, os) %>% rename(\"numip_h_osr\" = n) %>%\n",
    "add_count(ip, hour, app) %>% rename(\"numip_h_app\" = n) %>%\n",
    "add_count(ip, hour, device) %>% rename(\"numip_h_dev\" = n) %>%\n",
    "select(-c(ip))\n",
    "toc()\n",
    "invisible(gc())"
   ]
  },
  {
   "cell_type": "code",
   "execution_count": 13,
   "metadata": {
    "collapsed": false
   },
   "outputs": [
    {
     "name": "stdout",
     "output_type": "stream",
     "text": [
      "Classes ‘tbl_df’, ‘tbl’ and 'data.frame':\t184903890 obs. of  12 variables:\n",
      " $ app          : num  3 3 3 14 3 3 3 3 3 64 ...\n",
      " $ device       : num  1 1 1 1 1 1 1 1 1 1 ...\n",
      " $ os           : num  13 19 13 13 13 16 23 19 13 22 ...\n",
      " $ channel      : num  379 379 379 478 379 379 379 379 379 459 ...\n",
      " $ is_attributed: int  0 0 0 0 0 0 0 0 0 0 ...\n",
      " $ wday         : num  1 1 1 1 1 1 1 1 1 1 ...\n",
      " $ hour         : int  14 14 14 14 14 14 14 14 14 14 ...\n",
      " $ numip_day_h  : int  1 1 1 1 1 1 1 1 1 1 ...\n",
      " $ numip_h_chan : int  11 13 4 74 1 4 14 1 4 1 ...\n",
      " $ numip_h_osr  : int  168 143 172 3466 14 3 1 6 17 18 ...\n",
      " $ numip_h_app  : int  168 166 180 1038 8 27 78 4 50 1 ...\n",
      " $ numip_h_dev  : int  892 842 689 14529 37 161 351 27 161 177 ...\n"
     ]
    }
   ],
   "source": [
    "# Data analysis\n",
    "\n",
    "# Note that I have dropped IP address, attributed time and click time columns after \n",
    "# utilizing frequency counts from IP addresses and extracting weekday and hour from click time.\n",
    "# IP addresses seems to be dynamic or possibly fake so I decided to not to use for model training directly. \n",
    "\n",
    "### Training data\n",
    "\n",
    "str(train)"
   ]
  },
  {
   "cell_type": "code",
   "execution_count": 14,
   "metadata": {
    "collapsed": false
   },
   "outputs": [
    {
     "name": "stdout",
     "output_type": "stream",
     "text": [
      "Classes ‘tbl_df’, ‘tbl’ and 'data.frame':\t18790469 obs. of  11 variables:\n",
      " $ app         : num  9 9 21 15 12 18 3 27 18 12 ...\n",
      " $ device      : num  1 1 1 1 1 1 1 1 1 1 ...\n",
      " $ os          : num  3 3 19 13 13 13 1 19 10 53 ...\n",
      " $ channel     : num  107 466 128 111 328 107 137 153 107 424 ...\n",
      " $ wday        : num  5 5 5 5 5 5 5 5 5 5 ...\n",
      " $ hour        : int  4 4 4 4 4 4 4 4 4 4 ...\n",
      " $ numip_day_h : int  34 403 229 239 60 120 90 93 106 539 ...\n",
      " $ numip_h_chan: int  2 8 10 2 2 12 2 2 5 4 ...\n",
      " $ numip_h_osr : int  3 17 69 98 27 20 6 23 1 1 ...\n",
      " $ numip_h_app : int  8 50 13 10 7 16 16 1 13 52 ...\n",
      " $ numip_h_dev : int  34 400 229 239 59 120 87 92 105 441 ...\n"
     ]
    }
   ],
   "source": [
    "### Test data\n",
    "\n",
    "str(test)"
   ]
  },
  {
   "cell_type": "code",
   "execution_count": 15,
   "metadata": {
    "collapsed": false
   },
   "outputs": [
    {
     "data": {
      "text/plain": [
       "\n",
       "\n",
       "| app| device|  os| channel| is_attributed| wday| hour| numip_day_h| numip_h_chan| numip_h_osr| numip_h_app| numip_h_dev|\n",
       "|---:|------:|---:|-------:|-------------:|----:|----:|-----------:|------------:|-----------:|-----------:|-----------:|\n",
       "| 706|   3475| 800|     202|             2|    4|   24|        4037|         2284|        2806|        2955|        4593|"
      ]
     },
     "metadata": {},
     "output_type": "display_data"
    }
   ],
   "source": [
    "## unique values by each feature in train data\n",
    "\n",
    "kable(as.data.frame(lapply(train, function(x)length(unique(x)))))"
   ]
  },
  {
   "cell_type": "code",
   "execution_count": 16,
   "metadata": {
    "collapsed": false
   },
   "outputs": [
    {
     "data": {
      "text/plain": [
       "\n",
       "\n",
       "| app| device|  os| channel| wday| hour| numip_day_h| numip_h_chan| numip_h_osr| numip_h_app| numip_h_dev|\n",
       "|---:|------:|---:|-------:|----:|----:|-----------:|------------:|-----------:|-----------:|-----------:|\n",
       "| 417|   1985| 395|     178|    1|    9|        1623|          795|         937|         995|        1483|"
      ]
     },
     "metadata": {},
     "output_type": "display_data"
    }
   ],
   "source": [
    "## unique values by each feature in test data\n",
    "\n",
    "kable(as.data.frame(lapply(test, function(x)length(unique(x)))))"
   ]
  },
  {
   "cell_type": "code",
   "execution_count": 17,
   "metadata": {
    "collapsed": false
   },
   "outputs": [
    {
     "data": {
      "text/plain": [
       "\n",
       "        0         1 \n",
       "184447044    456846 "
      ]
     },
     "metadata": {},
     "output_type": "display_data"
    }
   ],
   "source": [
    "# Dealing with rare events data\n",
    "#The complete dataset has 99.8% negative samples and 0.2% positive samples \n",
    "#which fits the definition of highly imbalanced/rare events data. \n",
    "#Let's calculate the sum of positive and negative classes in our reduced training dataset.\n",
    "\n",
    "table(train$is_attributed)\n",
    "\n",
    "# As we can see from the table above that, in our training the sum of positive classes is 456K \n",
    "# and sum of negative classes is 184M"
   ]
  },
  {
   "cell_type": "markdown",
   "metadata": {},
   "source": [
    "# Modelling (LightGBM)"
   ]
  },
  {
   "cell_type": "code",
   "execution_count": 18,
   "metadata": {
    "collapsed": true
   },
   "outputs": [],
   "source": [
    "#To evaluate model performance before making prediction, let's create validation set (5% of training data) \n",
    "#on which we can measure the model performance and can make educated guess on generalizing \n",
    "#it on unseen (test) data.\n",
    "#Note that this split is still by rows (time series). \n",
    "#From total observations, I'm taking first 95% rows as training and last 5% as validation data. \n",
    "\n",
    "## Prepare data for modeling\n",
    "\n",
    "tr_index <- nrow(train)\n",
    "dtrain <- train %>% head(0.95 * tr_index) # 95% data for training\n",
    "valid <- train %>% tail(0.05 * tr_index) # 5% data for validation"
   ]
  },
  {
   "cell_type": "code",
   "execution_count": 19,
   "metadata": {
    "collapsed": false
   },
   "outputs": [
    {
     "name": "stdout",
     "output_type": "stream",
     "text": [
      "train size :  175658695 12  | valid size :  9245195 12  | test  size :  18790469 11"
     ]
    }
   ],
   "source": [
    "cat(\"train size : \", dim(dtrain), \" | valid size : \", dim(valid), \" | test  size : \", dim(test))"
   ]
  },
  {
   "cell_type": "code",
   "execution_count": 20,
   "metadata": {
    "collapsed": true
   },
   "outputs": [],
   "source": [
    "categorical_features = c(\"app\", \"device\", \"os\", \"channel\", \"wday\", \"hour\")"
   ]
  },
  {
   "cell_type": "code",
   "execution_count": 21,
   "metadata": {
    "collapsed": true
   },
   "outputs": [],
   "source": [
    "dtrain <- lgb.Dataset(data = as.matrix(dtrain[, colnames(dtrain) != \"is_attributed\"]), \n",
    "label = dtrain$is_attributed, categorical_feature = categorical_features)\n",
    "dvalid <- lgb.Dataset(data = as.matrix(valid[, colnames(valid) != \"is_attributed\"]), \n",
    "label = valid$is_attributed, categorical_feature = categorical_features)"
   ]
  },
  {
   "cell_type": "code",
   "execution_count": 22,
   "metadata": {
    "collapsed": true
   },
   "outputs": [],
   "source": [
    "invisible(gc())"
   ]
  },
  {
   "cell_type": "code",
   "execution_count": 23,
   "metadata": {
    "collapsed": true
   },
   "outputs": [],
   "source": [
    "## Parameters tuning\n",
    "\n",
    "params = list(objective = \"binary\", \n",
    "              metric = \"auc\", \n",
    "              learning_rate= 0.1, \n",
    "              num_leaves= 7,\n",
    "              max_depth= 3,\n",
    "              min_child_samples= 100,\n",
    "              max_bin= 100, # RAM dependent as per LightGBM documentation\n",
    "              subsample= 0.7,\n",
    "              subsample_freq= 1,\n",
    "              colsample_bytree= 0.7,\n",
    "              min_child_weight= 0,\n",
    "              min_split_gain= 0,\n",
    "              scale_pos_weight=99) "
   ]
  },
  {
   "cell_type": "code",
   "execution_count": 24,
   "metadata": {
    "collapsed": false
   },
   "outputs": [
    {
     "name": "stdout",
     "output_type": "stream",
     "text": [
      "[1]:\tvalidation's auc:0.952903 \n",
      "[51]:\tvalidation's auc:0.973521 \n",
      "[101]:\tvalidation's auc:0.976899 \n",
      "[151]:\tvalidation's auc:0.978197 \n",
      "[201]:\tvalidation's auc:0.978741 \n",
      "[251]:\tvalidation's auc:0.979117 \n",
      "[301]:\tvalidation's auc:0.979328 \n",
      "[351]:\tvalidation's auc:0.979514 \n"
     ]
    }
   ],
   "source": [
    "tic(\"Total time for model training --->\")\n",
    "model <- lgb.train(params, dtrain, valids = list(validation = dvalid), nthread = 4,\n",
    "                   nrounds = 1000, verbose= 1, early_stopping_rounds = 30, eval_freq = 50)"
   ]
  },
  {
   "cell_type": "code",
   "execution_count": 25,
   "metadata": {
    "collapsed": false
   },
   "outputs": [
    {
     "name": "stdout",
     "output_type": "stream",
     "text": [
      "Total time for model training --->: 1736.708 sec elapsed\n"
     ]
    }
   ],
   "source": [
    "invisible(gc())\n",
    "toc()"
   ]
  },
  {
   "cell_type": "code",
   "execution_count": 26,
   "metadata": {
    "collapsed": false
   },
   "outputs": [
    {
     "name": "stdout",
     "output_type": "stream",
     "text": [
      "Validation AUC @ best iter:  0.97951"
     ]
    }
   ],
   "source": [
    "cat(\"Validation AUC @ best iter: \", \n",
    "    max(unlist(model$record_evals[[\"validation\"]][[\"auc\"]][[\"eval\"]])))"
   ]
  },
  {
   "cell_type": "markdown",
   "metadata": {},
   "source": [
    "# Model evaluation"
   ]
  },
  {
   "cell_type": "code",
   "execution_count": 28,
   "metadata": {
    "collapsed": false
   },
   "outputs": [
    {
     "data": {
      "text/plain": [
       "\n",
       "\n",
       "|Feature      |Gain   |\n",
       "|:------------|:------|\n",
       "|app          |0.6341 |\n",
       "|numip_h_dev  |0.1362 |\n",
       "|channel      |0.1159 |\n",
       "|numip_h_app  |0.0443 |\n",
       "|numip_day_h  |0.0215 |\n",
       "|os           |0.0204 |\n",
       "|numip_h_osr  |0.0109 |\n",
       "|device       |0.0096 |\n",
       "|hour         |0.0037 |\n",
       "|numip_h_chan |0.0032 |\n",
       "|wday         |0.0002 |"
      ]
     },
     "metadata": {},
     "output_type": "display_data"
    }
   ],
   "source": [
    "## Understanding importance of each measure\n",
    "\n",
    "### Gain\n",
    "#The **Gain** measure implies the relative contribution of the corresponding feature \n",
    "#to the model calculated by taking each feature's contribution for each tree in the model. \n",
    "#A higher value of this metric when compared to another feature implies it is more \n",
    "#important for generating a prediction.\n",
    "#This is also the most relevant attribute to interpret the relative importance of each feature. \n",
    "#Based on feature importance matrix, \n",
    "#we can choose to eliminate feature with lowest (near zero) gain \n",
    "#and try and test new features in order to improve model performance. \n",
    "\n",
    "## Feature importance\n",
    "\n",
    "# get feature importance\n",
    "fi <- lgb.importance(model, percentage = TRUE)\n",
    "\n",
    "fi %>% select(Feature, Gain) %>% mutate(Gain = sprintf(\"%0.4f\", Gain)) %>% kable()"
   ]
  },
  {
   "cell_type": "code",
   "execution_count": 29,
   "metadata": {
    "collapsed": false
   },
   "outputs": [
    {
     "data": {
      "text/plain": [
       "\n",
       "\n",
       "|Feature      |Cover |\n",
       "|:------------|:-----|\n",
       "|app          |0.246 |\n",
       "|channel      |0.200 |\n",
       "|os           |0.139 |\n",
       "|numip_h_dev  |0.103 |\n",
       "|numip_day_h  |0.068 |\n",
       "|numip_h_app  |0.066 |\n",
       "|hour         |0.062 |\n",
       "|numip_h_osr  |0.046 |\n",
       "|device       |0.043 |\n",
       "|numip_h_chan |0.025 |\n",
       "|wday         |0.003 |"
      ]
     },
     "metadata": {},
     "output_type": "display_data"
    }
   ],
   "source": [
    "### Cover\n",
    "#The **Cover** metric measures the relative quantity of observations concerned by a feature.\n",
    "\n",
    "\n",
    "fi %>% select(Feature, Cover) %>% mutate(Cover = sprintf(\"%0.3f\", Cover)) %>% arrange(desc(Cover)) %>% kable()"
   ]
  },
  {
   "cell_type": "code",
   "execution_count": 30,
   "metadata": {
    "collapsed": false
   },
   "outputs": [
    {
     "data": {
      "text/plain": [
       "\n",
       "\n",
       "|Feature      |Frequency |\n",
       "|:------------|:---------|\n",
       "|app          |0.256     |\n",
       "|channel      |0.226     |\n",
       "|os           |0.141     |\n",
       "|numip_h_dev  |0.077     |\n",
       "|numip_day_h  |0.066     |\n",
       "|hour         |0.065     |\n",
       "|numip_h_app  |0.056     |\n",
       "|numip_h_osr  |0.051     |\n",
       "|device       |0.030     |\n",
       "|numip_h_chan |0.025     |\n",
       "|wday         |0.007     |"
      ]
     },
     "metadata": {},
     "output_type": "display_data"
    }
   ],
   "source": [
    "### Frequency\n",
    "#The **Frequency** measure is the percentage representing the relative number of times \n",
    "#a particular feature occurs in the trees of the model. \n",
    "#In simple words, it tells us how often the feature is used in the model.\n",
    "\n",
    "\n",
    "fi %>% select(Feature, Frequency) %>% \n",
    "mutate(Frequency = sprintf(\"%0.3f\", Frequency)) %>% \n",
    "arrange(desc(Frequency)) %>% \n",
    "kable()"
   ]
  },
  {
   "cell_type": "code",
   "execution_count": 31,
   "metadata": {
    "collapsed": false
   },
   "outputs": [
    {
     "data": {
      "text/plain": [
       "\n",
       "Call:\n",
       "roc.default(response = valid$is_attributed, predictor = val_preds,     levels = base::levels(as.factor(valid$is_attributed)), plot = TRUE,     grid = TRUE, col = \"steelblue\", lwd = 3)\n",
       "\n",
       "Data: val_preds in 9958 controls (valid$is_attributed 0) < 42 cases (valid$is_attributed 1).\n",
       "Area under the curve: 0.979"
      ]
     },
     "metadata": {},
     "output_type": "display_data"
    },
    {
     "data": {
      "image/png": "[encoded data removed]",
      "text/plain": [
       "plot without title"
      ]
     },
     "metadata": {},
     "output_type": "display_data"
    }
   ],
   "source": [
    "## ROC on validation set\n",
    "\n",
    "# An ROC curve demonstrates several things for 2-class classification algorithms:\n",
    "# \n",
    "# - It shows the tradeoff between sensitivity and specificity \n",
    "# (any increase in sensitivity will be accompanied by a decrease in specificity).\n",
    "# - The closer the curve follows the left-hand border and then the top border of the ROC space, \n",
    "# the more accurate the test.\n",
    "# - The closer the curve comes to the 45-degree diagonal of the ROC space, the less accurate the test.\n",
    "\n",
    "#To reduce the computation time for this example, \n",
    "#I'm reducing original validation data set to first 10,000 observations.\n",
    "\n",
    "\n",
    "valid <- head(valid, 10000)\n",
    "\n",
    "# get predictions on reduced validation set\n",
    "val_preds = predict(model, data = as.matrix(valid[, colnames(valid) != \"is_attributed\"]), \n",
    "                    n = model$best_iter)\n",
    "\n",
    "#plot ROC\n",
    "auc.lgb = roc(valid$is_attributed, val_preds, \n",
    "              levels=base::levels(as.factor(valid$is_attributed)), grid=TRUE,\n",
    "              plot = TRUE, col = \"steelblue\", lwd = 3)\n",
    "auc.lgb\n",
    "invisible(gc())"
   ]
  },
  {
   "cell_type": "code",
   "execution_count": 32,
   "metadata": {
    "collapsed": false
   },
   "outputs": [
    {
     "data": {
      "text/plain": [
       "\n",
       "\n",
       "| app| device| os| channel| is_attributed| wday| hour| numip_day_h| numip_h_chan| numip_h_osr| numip_h_app| numip_h_dev|\n",
       "|---:|------:|--:|-------:|-------------:|----:|----:|-----------:|------------:|-----------:|-----------:|-----------:|\n",
       "|   3|      1| 19|     115|             0|    4|   13|         225|            9|         142|         151|         614|"
      ]
     },
     "metadata": {},
     "output_type": "display_data"
    }
   ],
   "source": [
    "## Understanding individual prediction based on importance values\n",
    "\n",
    "# Let's take the first observation in validation dataset \n",
    "# and compare it with actual and predicted values based on feature importance \n",
    "# to find out the reason behind having that specific predicted value. \n",
    "\n",
    "## Select random Observation in validation set\n",
    "\n",
    "kable(valid[57, ]) #let's choose the 57th observation"
   ]
  },
  {
   "cell_type": "code",
   "execution_count": 33,
   "metadata": {
    "collapsed": false
   },
   "outputs": [
    {
     "name": "stdout",
     "output_type": "stream",
     "text": [
      "predicted value from model:  0.00767759950058344"
     ]
    }
   ],
   "source": [
    "## Compare with predicted value\n",
    "\n",
    "cat(paste(\"predicted value from model: \", val_preds[[57]]))"
   ]
  },
  {
   "cell_type": "code",
   "execution_count": 34,
   "metadata": {
    "collapsed": false
   },
   "outputs": [
    {
     "data": {
      "image/png": "[encoded data removed]",
      "text/plain": [
       "plot without title"
      ]
     },
     "metadata": {},
     "output_type": "display_data"
    }
   ],
   "source": [
    "## Reasoning\n",
    "#lgb.interprete function computes feature contribution components of rawscore prediction. \n",
    "#We will use it with plot.interpretation argument for visual representation.\n",
    "\n",
    "\n",
    "#extract interpretation for 1st observation in validation data\n",
    "tree_interpretation <- lgb.interprete(model, data = as.matrix(valid[, colnames(valid)]), 1)\n",
    "lgb.plot.interpretation(tree_interpretation[[1]])\n",
    "\n",
    "# In the chart above, X axis refers to contribution value (positive/ negative) \n",
    "# and Y axis refers to name of the feature. \n",
    "# We can see the features with their contribution (positive/ negative) from the plot \n",
    "# and the table below to get an idea behind why our model predicted that \n",
    "# specific value for chosen observation in validation data set."
   ]
  },
  {
   "cell_type": "code",
   "execution_count": 35,
   "metadata": {
    "collapsed": false
   },
   "outputs": [
    {
     "data": {
      "text/plain": [
       "\n",
       "\n",
       "|Feature      | Contribution|\n",
       "|:------------|------------:|\n",
       "|os           |      7.46423|\n",
       "|numip_day_h  |      5.34886|\n",
       "|hour         |      1.60540|\n",
       "|numip_h_osr  |      1.25425|\n",
       "|numip_h_chan |      1.19718|\n",
       "|device       |      0.23229|\n",
       "|wday         |     -0.09519|\n",
       "|channel      |     -2.47497|\n",
       "|numip_h_app  |     -2.71065|\n",
       "|numip_h_dev  |     -3.25661|\n",
       "|app          |    -10.41482|"
      ]
     },
     "metadata": {},
     "output_type": "display_data"
    }
   ],
   "source": [
    "# In the table below, features and their contribution for prediction is arranged in descending order.\n",
    "as.data.frame(tree_interpretation) %>% arrange(desc(Contribution)) %>% kable()\n",
    "rm(valid, valid_preds)\n",
    "invisible(gc())"
   ]
  },
  {
   "cell_type": "code",
   "execution_count": 36,
   "metadata": {
    "collapsed": true
   },
   "outputs": [],
   "source": [
    "# Lets do Predictions on test records -ncol(test)\n",
    "preds <- predict(model, data = as.matrix(test[1:18790469, colnames(test)], n = model$best_iter),reshape = TRUE)"
   ]
  },
  {
   "cell_type": "code",
   "execution_count": 37,
   "metadata": {
    "collapsed": false
   },
   "outputs": [
    {
     "data": {
      "text/html": [
       "<ol class=list-inline>\n",
       "\t<li>0.0420332445868229</li>\n",
       "\t<li>0.0425307458374752</li>\n",
       "\t<li>0.0056179994668673</li>\n",
       "\t<li>0.0249467762841675</li>\n",
       "\t<li>0.0132467033252856</li>\n",
       "</ol>\n"
      ],
      "text/latex": [
       "\\begin{enumerate*}\n",
       "\\item 0.0420332445868229\n",
       "\\item 0.0425307458374752\n",
       "\\item 0.0056179994668673\n",
       "\\item 0.0249467762841675\n",
       "\\item 0.0132467033252856\n",
       "\\end{enumerate*}\n"
      ],
      "text/markdown": [
       "1. 0.0420332445868229\n",
       "2. 0.0425307458374752\n",
       "3. 0.0056179994668673\n",
       "4. 0.0249467762841675\n",
       "5. 0.0132467033252856\n",
       "\n",
       "\n"
      ],
      "text/plain": [
       "[1] 0.042033 0.042531 0.005618 0.024947 0.013247"
      ]
     },
     "metadata": {},
     "output_type": "display_data"
    }
   ],
   "source": [
    "#predicting on test set\n",
    "head(preds,5)  # showing first 5 predictions"
   ]
  },
  {
   "cell_type": "code",
   "execution_count": 38,
   "metadata": {
    "collapsed": true
   },
   "outputs": [],
   "source": [
    "preds <- as.data.frame(preds)"
   ]
  },
  {
   "cell_type": "code",
   "execution_count": 39,
   "metadata": {
    "collapsed": false
   },
   "outputs": [
    {
     "data": {
      "text/html": [
       "<table>\n",
       "<thead><tr><th scope=col>click_id</th><th scope=col>is_attributed</th></tr></thead>\n",
       "<tbody>\n",
       "\t<tr><td>0 </td><td>NA</td></tr>\n",
       "\t<tr><td>1 </td><td>NA</td></tr>\n",
       "\t<tr><td>2 </td><td>NA</td></tr>\n",
       "\t<tr><td>3 </td><td>NA</td></tr>\n",
       "\t<tr><td>4 </td><td>NA</td></tr>\n",
       "</tbody>\n",
       "</table>\n"
      ],
      "text/latex": [
       "\\begin{tabular}{r|ll}\n",
       " click\\_id & is\\_attributed\\\\\n",
       "\\hline\n",
       "\t 0  & NA\\\\\n",
       "\t 1  & NA\\\\\n",
       "\t 2  & NA\\\\\n",
       "\t 3  & NA\\\\\n",
       "\t 4  & NA\\\\\n",
       "\\end{tabular}\n"
      ],
      "text/markdown": [
       "\n",
       "click_id | is_attributed | \n",
       "|---|---|---|---|---|\n",
       "| 0  | NA | \n",
       "| 1  | NA | \n",
       "| 2  | NA | \n",
       "| 3  | NA | \n",
       "| 4  | NA | \n",
       "\n",
       "\n"
      ],
      "text/plain": [
       "  click_id is_attributed\n",
       "1 0        NA           \n",
       "2 1        NA           \n",
       "3 2        NA           \n",
       "4 3        NA           \n",
       "5 4        NA           "
      ]
     },
     "metadata": {},
     "output_type": "display_data"
    }
   ],
   "source": [
    "head(sub,5)"
   ]
  },
  {
   "cell_type": "code",
   "execution_count": 40,
   "metadata": {
    "collapsed": true
   },
   "outputs": [],
   "source": [
    "sub$is_attributed <- preds"
   ]
  },
  {
   "cell_type": "code",
   "execution_count": 41,
   "metadata": {
    "collapsed": false
   },
   "outputs": [
    {
     "data": {
      "text/html": [
       "<table>\n",
       "<thead><tr><th scope=col>click_id</th><th scope=col>is_attributed</th></tr></thead>\n",
       "<tbody>\n",
       "\t<tr><td>0       </td><td>0.042033</td></tr>\n",
       "\t<tr><td>1       </td><td>0.042531</td></tr>\n",
       "\t<tr><td>2       </td><td>0.005618</td></tr>\n",
       "\t<tr><td>3       </td><td>0.024947</td></tr>\n",
       "\t<tr><td>4       </td><td>0.013247</td></tr>\n",
       "</tbody>\n",
       "</table>\n"
      ],
      "text/latex": [
       "\\begin{tabular}{r|ll}\n",
       " click\\_id & is\\_attributed\\\\\n",
       "\\hline\n",
       "\t 0        & 0.042033\\\\\n",
       "\t 1        & 0.042531\\\\\n",
       "\t 2        & 0.005618\\\\\n",
       "\t 3        & 0.024947\\\\\n",
       "\t 4        & 0.013247\\\\\n",
       "\\end{tabular}\n"
      ],
      "text/markdown": [
       "\n",
       "click_id | is_attributed | \n",
       "|---|---|---|---|---|\n",
       "| 0        | 0.042033 | \n",
       "| 1        | 0.042531 | \n",
       "| 2        | 0.005618 | \n",
       "| 3        | 0.024947 | \n",
       "| 4        | 0.013247 | \n",
       "\n",
       "\n"
      ],
      "text/plain": [
       "  click_id is_attributed\n",
       "1 0        0.042033     \n",
       "2 1        0.042531     \n",
       "3 2        0.005618     \n",
       "4 3        0.024947     \n",
       "5 4        0.013247     "
      ]
     },
     "metadata": {},
     "output_type": "display_data"
    }
   ],
   "source": [
    "head(sub,5)"
   ]
  },
  {
   "cell_type": "code",
   "execution_count": 42,
   "metadata": {
    "collapsed": true
   },
   "outputs": [],
   "source": [
    "#converting probabilities into 0 or 1\n",
    "prob2class = function(is_attributed){\n",
    "    if(is_attributed>=.5){\n",
    "      return(1)\n",
    "    } else {\n",
    "      return(0)\n",
    "    }\n",
    "}"
   ]
  },
  {
   "cell_type": "code",
   "execution_count": 43,
   "metadata": {
    "collapsed": true
   },
   "outputs": [],
   "source": [
    "# apply prob2class function on each row of dataframe\n",
    "sub$is_attributed_target <- sapply(sub$is_attributed,prob2class)"
   ]
  },
  {
   "cell_type": "code",
   "execution_count": 44,
   "metadata": {
    "collapsed": false
   },
   "outputs": [
    {
     "data": {
      "text/html": [
       "<table>\n",
       "<thead><tr><th scope=col>click_id</th><th scope=col>is_attributed</th><th scope=col>is_attributed_target</th></tr></thead>\n",
       "<tbody>\n",
       "\t<tr><td>0       </td><td>0.042033</td><td>0       </td></tr>\n",
       "\t<tr><td>1       </td><td>0.042531</td><td>0       </td></tr>\n",
       "\t<tr><td>2       </td><td>0.005618</td><td>0       </td></tr>\n",
       "\t<tr><td>3       </td><td>0.024947</td><td>0       </td></tr>\n",
       "\t<tr><td>4       </td><td>0.013247</td><td>0       </td></tr>\n",
       "</tbody>\n",
       "</table>\n"
      ],
      "text/latex": [
       "\\begin{tabular}{r|lll}\n",
       " click\\_id & is\\_attributed & is\\_attributed\\_target\\\\\n",
       "\\hline\n",
       "\t 0        & 0.042033 & 0       \\\\\n",
       "\t 1        & 0.042531 & 0       \\\\\n",
       "\t 2        & 0.005618 & 0       \\\\\n",
       "\t 3        & 0.024947 & 0       \\\\\n",
       "\t 4        & 0.013247 & 0       \\\\\n",
       "\\end{tabular}\n"
      ],
      "text/markdown": [
       "\n",
       "click_id | is_attributed | is_attributed_target | \n",
       "|---|---|---|---|---|\n",
       "| 0        | 0.042033 | 0        | \n",
       "| 1        | 0.042531 | 0        | \n",
       "| 2        | 0.005618 | 0        | \n",
       "| 3        | 0.024947 | 0        | \n",
       "| 4        | 0.013247 | 0        | \n",
       "\n",
       "\n"
      ],
      "text/plain": [
       "  click_id is_attributed is_attributed_target\n",
       "1 0        0.042033      0                   \n",
       "2 1        0.042531      0                   \n",
       "3 2        0.005618      0                   \n",
       "4 3        0.024947      0                   \n",
       "5 4        0.013247      0                   "
      ]
     },
     "metadata": {},
     "output_type": "display_data"
    }
   ],
   "source": [
    "head(sub,5)"
   ]
  },
  {
   "cell_type": "code",
   "execution_count": 45,
   "metadata": {
    "collapsed": false
   },
   "outputs": [
    {
     "data": {
      "text/plain": [
       "\n",
       "       0        1 \n",
       "18341733   448736 "
      ]
     },
     "metadata": {},
     "output_type": "display_data"
    }
   ],
   "source": [
    "table(sub$is_attributed_target)"
   ]
  },
  {
   "cell_type": "code",
   "execution_count": 46,
   "metadata": {
    "collapsed": true
   },
   "outputs": [],
   "source": [
    "sub$is_attributed <- NULL"
   ]
  },
  {
   "cell_type": "code",
   "execution_count": 47,
   "metadata": {
    "collapsed": false
   },
   "outputs": [
    {
     "data": {
      "text/html": [
       "<ol class=list-inline>\n",
       "\t<li>'click_id'</li>\n",
       "\t<li>'is_attributed_target'</li>\n",
       "</ol>\n"
      ],
      "text/latex": [
       "\\begin{enumerate*}\n",
       "\\item 'click\\_id'\n",
       "\\item 'is\\_attributed\\_target'\n",
       "\\end{enumerate*}\n"
      ],
      "text/markdown": [
       "1. 'click_id'\n",
       "2. 'is_attributed_target'\n",
       "\n",
       "\n"
      ],
      "text/plain": [
       "[1] \"click_id\"             \"is_attributed_target\""
      ]
     },
     "metadata": {},
     "output_type": "display_data"
    }
   ],
   "source": [
    "names(sub)"
   ]
  },
  {
   "cell_type": "code",
   "execution_count": 48,
   "metadata": {
    "collapsed": false
   },
   "outputs": [
    {
     "data": {
      "text/html": [
       "<table>\n",
       "<thead><tr><th scope=col>click_id</th><th scope=col>is_attributed_target</th></tr></thead>\n",
       "<tbody>\n",
       "\t<tr><td>0</td><td>0</td></tr>\n",
       "\t<tr><td>1</td><td>0</td></tr>\n",
       "\t<tr><td>2</td><td>0</td></tr>\n",
       "\t<tr><td>3</td><td>0</td></tr>\n",
       "\t<tr><td>4</td><td>0</td></tr>\n",
       "</tbody>\n",
       "</table>\n"
      ],
      "text/latex": [
       "\\begin{tabular}{r|ll}\n",
       " click\\_id & is\\_attributed\\_target\\\\\n",
       "\\hline\n",
       "\t 0 & 0\\\\\n",
       "\t 1 & 0\\\\\n",
       "\t 2 & 0\\\\\n",
       "\t 3 & 0\\\\\n",
       "\t 4 & 0\\\\\n",
       "\\end{tabular}\n"
      ],
      "text/markdown": [
       "\n",
       "click_id | is_attributed_target | \n",
       "|---|---|---|---|---|\n",
       "| 0 | 0 | \n",
       "| 1 | 0 | \n",
       "| 2 | 0 | \n",
       "| 3 | 0 | \n",
       "| 4 | 0 | \n",
       "\n",
       "\n"
      ],
      "text/plain": [
       "  click_id is_attributed_target\n",
       "1 0        0                   \n",
       "2 1        0                   \n",
       "3 2        0                   \n",
       "4 3        0                   \n",
       "5 4        0                   "
      ]
     },
     "metadata": {},
     "output_type": "display_data"
    }
   ],
   "source": [
    "head(sub,5)"
   ]
  },
  {
   "cell_type": "code",
   "execution_count": 49,
   "metadata": {
    "collapsed": false
   },
   "outputs": [
    {
     "data": {
      "text/html": [
       "<ol class=list-inline>\n",
       "\t<li>18790469</li>\n",
       "\t<li>2</li>\n",
       "</ol>\n"
      ],
      "text/latex": [
       "\\begin{enumerate*}\n",
       "\\item 18790469\n",
       "\\item 2\n",
       "\\end{enumerate*}\n"
      ],
      "text/markdown": [
       "1. 18790469\n",
       "2. 2\n",
       "\n",
       "\n"
      ],
      "text/plain": [
       "[1] 18790469        2"
      ]
     },
     "metadata": {},
     "output_type": "display_data"
    }
   ],
   "source": [
    "dim(sub)"
   ]
  },
  {
   "cell_type": "code",
   "execution_count": 50,
   "metadata": {
    "collapsed": true
   },
   "outputs": [],
   "source": [
    "colnames(sub)[2] <- \"is_attributed\""
   ]
  },
  {
   "cell_type": "code",
   "execution_count": 51,
   "metadata": {
    "collapsed": false
   },
   "outputs": [
    {
     "data": {
      "text/html": [
       "<ol class=list-inline>\n",
       "\t<li>'click_id'</li>\n",
       "\t<li>'is_attributed'</li>\n",
       "</ol>\n"
      ],
      "text/latex": [
       "\\begin{enumerate*}\n",
       "\\item 'click\\_id'\n",
       "\\item 'is\\_attributed'\n",
       "\\end{enumerate*}\n"
      ],
      "text/markdown": [
       "1. 'click_id'\n",
       "2. 'is_attributed'\n",
       "\n",
       "\n"
      ],
      "text/plain": [
       "[1] \"click_id\"      \"is_attributed\""
      ]
     },
     "metadata": {},
     "output_type": "display_data"
    }
   ],
   "source": [
    "colnames(sub)"
   ]
  },
  {
   "cell_type": "code",
   "execution_count": 52,
   "metadata": {
    "collapsed": false
   },
   "outputs": [
    {
     "data": {
      "text/html": [
       "<table>\n",
       "<thead><tr><th scope=col>click_id</th><th scope=col>is_attributed</th></tr></thead>\n",
       "<tbody>\n",
       "\t<tr><td>0</td><td>0</td></tr>\n",
       "\t<tr><td>1</td><td>0</td></tr>\n",
       "\t<tr><td>2</td><td>0</td></tr>\n",
       "\t<tr><td>3</td><td>0</td></tr>\n",
       "\t<tr><td>4</td><td>0</td></tr>\n",
       "</tbody>\n",
       "</table>\n"
      ],
      "text/latex": [
       "\\begin{tabular}{r|ll}\n",
       " click\\_id & is\\_attributed\\\\\n",
       "\\hline\n",
       "\t 0 & 0\\\\\n",
       "\t 1 & 0\\\\\n",
       "\t 2 & 0\\\\\n",
       "\t 3 & 0\\\\\n",
       "\t 4 & 0\\\\\n",
       "\\end{tabular}\n"
      ],
      "text/markdown": [
       "\n",
       "click_id | is_attributed | \n",
       "|---|---|---|---|---|\n",
       "| 0 | 0 | \n",
       "| 1 | 0 | \n",
       "| 2 | 0 | \n",
       "| 3 | 0 | \n",
       "| 4 | 0 | \n",
       "\n",
       "\n"
      ],
      "text/plain": [
       "  click_id is_attributed\n",
       "1 0        0            \n",
       "2 1        0            \n",
       "3 2        0            \n",
       "4 3        0            \n",
       "5 4        0            "
      ]
     },
     "metadata": {},
     "output_type": "display_data"
    }
   ],
   "source": [
    "head(sub,5)"
   ]
  },
  {
   "cell_type": "code",
   "execution_count": 54,
   "metadata": {
    "collapsed": false
   },
   "outputs": [
    {
     "data": {
      "text/plain": [
       "\n",
       "       0        1 \n",
       "18341733   448736 "
      ]
     },
     "metadata": {},
     "output_type": "display_data"
    }
   ],
   "source": [
    "table(sub$is_attributed)"
   ]
  },
  {
   "cell_type": "code",
   "execution_count": 55,
   "metadata": {
    "collapsed": true
   },
   "outputs": [],
   "source": [
    "fwrite(sub, \"sample_submission.csv\")"
   ]
  },
  {
   "cell_type": "code",
   "execution_count": null,
   "metadata": {
    "collapsed": true
   },
   "outputs": [],
   "source": []
  }
 ],
 "metadata": {
  "kernelspec": {
   "display_name": "R",
   "language": "R",
   "name": "ir"
  },
  "language_info": {
   "codemirror_mode": "r",
   "file_extension": ".r",
   "mimetype": "text/x-r-source",
   "name": "R",
   "pygments_lexer": "r",
   "version": "3.4.1"
  }
 },
 "nbformat": 4,
 "nbformat_minor": 1
}
